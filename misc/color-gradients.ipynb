{
 "cells": [
  {
   "cell_type": "code",
   "execution_count": 44,
   "metadata": {},
   "outputs": [
    {
     "name": "stdout",
     "output_type": "stream",
     "text": [
      "165.1094890510949 0.4176470588235294 0.6431924882629108\n"
     ]
    },
    {
     "data": {
      "text/plain": [
       "'linear-gradient(120deg, #187066, #219a6c)'"
      ]
     },
     "execution_count": 44,
     "metadata": {},
     "output_type": "execute_result"
    }
   ],
   "source": [
    "import colorsys\n",
    "\n",
    "def hex_to_rgb(color):\n",
    "    color = color.strip('#')\n",
    "    assert len(color) == 6\n",
    "    r,g,b = int(color[0:2], 16), int(color[2:4], 16), int(color[4:6], 16)\n",
    "    return (r, g, b)\n",
    "\n",
    "def hexcolor(r,g,b):\n",
    "    assert 0<=r<=1 and 0<=g<=1 and 0<=b<=1\n",
    "    return '#%02x%02x%02x' % (int(255*r), int(255*g), int(255*b))\n",
    "\n",
    "def build_gradient(color, factor=1):\n",
    "    r, g, b = hex_to_rgb(color)\n",
    "    h, l, s = colorsys.rgb_to_hls(r/255, g/255, b/255)\n",
    "    print(360*h, l, s)\n",
    "\n",
    "    color1 = colorsys.hls_to_rgb((h+8/360)%1, max(l - 0.15 * factor,0), s)\n",
    "    color2 = colorsys.hls_to_rgb((h-8/360)%1, max(l - 0.05 * factor, 0), s)\n",
    "    color1, color2 = hexcolor(*color1), hexcolor(*color2)\n",
    "\n",
    "    return f\"linear-gradient(120deg, {color1}, {color2})\"\n",
    "\n",
    "build_gradient('#26af8d')"
   ]
  },
  {
   "cell_type": "code",
   "execution_count": 73,
   "metadata": {},
   "outputs": [
    {
     "name": "stdout",
     "output_type": "stream",
     "text": [
      "279.7959183673469 0.6588235294117647 0.5632183908045977\n",
      "linear-gradient(120deg, #ab3bc8, #9e63d3)\n"
     ]
    },
    {
     "data": {
      "text/html": [
       "<div style=\"width: 100px; height: 50px; background: linear-gradient(120deg, #ab3bc8, #9e63d3); border-radius:6px; padding: 20px; color: white\">#b877d9</div>"
      ],
      "text/plain": [
       "<IPython.core.display.HTML object>"
      ]
     },
     "execution_count": 73,
     "metadata": {},
     "output_type": "execute_result"
    }
   ],
   "source": [
    "from IPython.display import HTML\n",
    "\n",
    "c = '#26af8d'\n",
    "# c = '#880000'\n",
    "c = '#ff9830' # orange\n",
    "c = '#f2495c' # red\n",
    "c = '#fade2a' # yellow\n",
    "c = '#73bf69' # green\n",
    "c = '#5794f2' # blue\n",
    "c = '#b877d9' # purple\n",
    "# c = '#aa00aa'\n",
    "# r, g, b = (87, 148, 242)\n",
    "# c = hexcolor(r/255, g/255, b/255)\n",
    "\n",
    "r, g, b = hex_to_rgb(c)\n",
    "\n",
    "\n",
    "grad = build_gradient(c)\n",
    "print(grad)\n",
    "fg = 'black' if (r*0.299 + g*0.587 + b*0.114) > 186 else 'white'\n",
    "HTML(f'<div style=\"width: 100px; height: 50px; background: {grad}; border-radius:6px; padding: 20px; color: {fg}\">{c}</div>')"
   ]
  }
 ],
 "metadata": {
  "interpreter": {
   "hash": "71736488fc6e11678d73264d6693552e61932950106d33377d4eb0483295e834"
  },
  "kernelspec": {
   "display_name": "Python 3.10.0 64-bit",
   "language": "python",
   "name": "python3"
  },
  "language_info": {
   "codemirror_mode": {
    "name": "ipython",
    "version": 3
   },
   "file_extension": ".py",
   "mimetype": "text/x-python",
   "name": "python",
   "nbconvert_exporter": "python",
   "pygments_lexer": "ipython3",
   "version": "3.10.0"
  },
  "orig_nbformat": 4
 },
 "nbformat": 4,
 "nbformat_minor": 2
}
