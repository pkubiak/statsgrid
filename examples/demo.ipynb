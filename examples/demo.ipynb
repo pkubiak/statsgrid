{
 "cells": [
  {
   "cell_type": "code",
   "execution_count": 1,
   "metadata": {},
   "outputs": [],
   "source": [
    "%load_ext autoreload\n",
    "import sys, os\n",
    "sys.path.append(os.path.abspath('..'))\n",
    "from statsgrid import StatsGrid"
   ]
  },
  {
   "cell_type": "code",
   "execution_count": 2,
   "metadata": {},
   "outputs": [
    {
     "data": {
      "text/html": [
       "<style>.stats-grid {\n",
       "    display: flex;\n",
       "    flex-direction: column;\n",
       "    background:transparent;\n",
       "    font-size: 16px;\n",
       "\n",
       "    padding: 0.25em;\n",
       "    margin: 0;\n",
       "}\n",
       ".stats-grid.light {\n",
       "    background: #fff;\n",
       "}\n",
       "\n",
       ".stats-grid.dark {\n",
       "    background: #141619;\n",
       "}\n",
       "\n",
       ".stats-grid > div {\n",
       "    flex-grow: 1;\n",
       "    display: flex;\n",
       "    max-width: 100%;\n",
       "}\n",
       "\n",
       ".stats-grid > div > div {\n",
       "    flex-grow: 1;\n",
       "    flex-shrink: 0;\n",
       "    flex-basis: 0px;\n",
       "    overflow: hidden;\n",
       "}\n",
       "\n",
       ".stats-grid > div > div div {\n",
       "    margin: 5px;\n",
       "    background: linear-gradient(120deg, rgb(90, 90, 90), rgb(115, 115, 115));\n",
       "    padding: 1em;\n",
       "    color: white;\n",
       "    /* box-shadow: rgba(50, 50, 105, 0.45) 0px 2px 5px 0px, rgba(0, 0, 0, 0.35) 0px 1px 1px 0px; */\n",
       "    /* box-shadow: rgba(0, 0, 0, 0.15) 1.95px 1.95px 2.6px; */\n",
       "    box-shadow: rgba(50, 50, 93, 0.65) 0px 2px 5px -1px, rgba(0, 0, 0, 0.6) 0px 1px 3px -1px;\n",
       "    /* border-radius: 5px; */\n",
       "}\n",
       "\n",
       ".stats-grid > div > div.success div, .stats-grid > div > div.green div {\n",
       "    background: linear-gradient(120deg, rgb(66, 154, 67), rgb(111, 183, 87));\n",
       "}\n",
       ".stats-grid > div > div.red div, .stats-grid > div > div.error div {\n",
       "    background: linear-gradient(120deg, rgb(223, 20, 16), rgb(240, 49, 96));\n",
       "}\n",
       ".stats-grid > div > div.orange div, .stats-grid > div > div.warning div {\n",
       "    background: linear-gradient(120deg, rgb(226, 144, 0), rgb(255, 108, 22));\n",
       "}\n",
       ".stats-grid > div > div.blue div {\n",
       "    background: linear-gradient(120deg, rgb(18, 74, 234), rgb(63, 156, 240));\n",
       "}\n",
       ".stats-grid > div > div.purple div {\n",
       "    background: linear-gradient(120deg, rgb(172, 59, 200), rgb(159, 99, 211));\n",
       "}\n",
       ".stats-grid > div > div.yellow div {\n",
       "    background: linear-gradient(120deg, rgb(211, 210, 5), rgb(249, 187, 17));\n",
       "}\n",
       "\n",
       ".stats-grid > div > div div:hover {\n",
       "    filter: brightness(1.3);\n",
       "}\n",
       "\n",
       ".stats-grid h1, .stats-grid h2 {\n",
       "    margin:0;\n",
       "    font-family: Roboto, \"Helvetica Neue\", Arial, sans-serif;\n",
       "    white-space: nowrap;\n",
       "    overflow: hidden;\n",
       "    text-overflow: ellipsis;\n",
       "}\n",
       ".stats-grid h2 {\n",
       "    font-weight: normal;\n",
       "    font-variant: small-caps;\n",
       "    font-size: 1em;\n",
       "}\n",
       ".stats-grid h1 {\n",
       "    text-align: center;\n",
       "    font-size: 3em;\n",
       "    padding: 0.166em 0;\n",
       "}\n",
       "\n",
       "/* figcaption */\n",
       ".stats-grid figcaption {\n",
       "    font-size: 1em;\n",
       "    padding-bottom: 0.25em;\n",
       "}\n",
       "\n",
       ".stats-grid.light figcaption{\n",
       "    color: #000;\n",
       "}\n",
       ".stats-grid.dark figcaption {\n",
       "    color: #fff;\n",
       "}</style><figure class=\"stats-grid dark\"><figcaption style=\"text-align: left\">Classifier Training Summary</figcaption><div><div class=\"success\"><div><h2 title=\"accuracy\">accuracy</h2><h1 title=\"0.71 ↗\">0.71 ↗</h1></div></div><div class=\"warning\"><div><h2 title=\"precision\">precision</h2><h1 title=\"0.92 ↘\">0.92 ↘</h1></div></div><div class=\"success\"><div><h2 title=\"f1-score\">f1-score</h2><h1 title=\"0.80 ↗\">0.80 ↗</h1></div></div></div><div><div><div><h2 title=\"train-corpus-size\">train-corpus-size</h2><h1 title=\"1,234,567\">1,234,567</h1></div></div><div><div><h2 title=\"test-corpus-size\">test-corpus-size</h2><h1 title=\"34,567\">34,567</h1></div></div><div><div><h2 title=\"no-classes\">no-classes</h2><h1 title=\"42\">42</h1></div></div><div><div><h2 title=\"training-time [s]\">training-time [s]</h2><h1 title=\"123.45\">123.45</h1></div></div></div><div><div style=\"flex-grow:3\"><div><h2 title=\"model-location\">model-location</h2><h1 title=\"s3://mybucket/model.pth\">s3://mybucket/model.pth</h1></div></div><div><div><h2 title=\"model-size [MiB]\">model-size [MiB]</h2><h1 title=\"234.54\">234.54</h1></div></div></div></figure>"
      ],
      "text/plain": [
       "<statsgrid.statsgrid.StatsGrid at 0x210e5535d20>"
      ]
     },
     "execution_count": 2,
     "metadata": {},
     "output_type": "execute_result"
    }
   ],
   "source": [
    "sg = StatsGrid([\n",
    "    [\n",
    "        (\"accuracy\", \"0.71 ↗\", dict(style=\"success\")),\n",
    "        (\"precision\", \"0.92 ↘\", dict(style=\"warning\")),\n",
    "        (\"f1-score\", f\"{2 * 0.71 * 0.92 / (0.71 + 0.92):.2f} ↗\", dict(style=\"success\"))\n",
    "    ], [\n",
    "        (\"train-corpus-size\", 1234567),\n",
    "        (\"test-corpus-size\", 34567),\n",
    "        (\"no-classes\", 42),\n",
    "        (\"training-time [s]\", 123.45),\n",
    "    ], [\n",
    "        (\"model-location\", \"s3://mybucket/model.pth\", dict(size=3)),\n",
    "        (\"model-size [MiB]\", 234.54), \n",
    "    ]\n",
    "], caption=\"Classifier Training Summary\", style=\"dark\")\n",
    "sg"
   ]
  },
  {
   "cell_type": "markdown",
   "metadata": {},
   "source": [
    "# Extending existing StatsGrid"
   ]
  },
  {
   "cell_type": "code",
   "execution_count": 3,
   "metadata": {},
   "outputs": [
    {
     "data": {
      "text/html": [
       "<style>.stats-grid {\n",
       "    display: flex;\n",
       "    flex-direction: column;\n",
       "    background:transparent;\n",
       "    font-size: 16px;\n",
       "\n",
       "    padding: 0.25em;\n",
       "    margin: 0;\n",
       "}\n",
       ".stats-grid.light {\n",
       "    background: #fff;\n",
       "}\n",
       "\n",
       ".stats-grid.dark {\n",
       "    background: #141619;\n",
       "}\n",
       "\n",
       ".stats-grid > div {\n",
       "    flex-grow: 1;\n",
       "    display: flex;\n",
       "    max-width: 100%;\n",
       "}\n",
       "\n",
       ".stats-grid > div > div {\n",
       "    flex-grow: 1;\n",
       "    flex-shrink: 0;\n",
       "    flex-basis: 0px;\n",
       "    overflow: hidden;\n",
       "}\n",
       "\n",
       ".stats-grid > div > div div {\n",
       "    margin: 5px;\n",
       "    background: linear-gradient(120deg, rgb(90, 90, 90), rgb(115, 115, 115));\n",
       "    padding: 1em;\n",
       "    color: white;\n",
       "    /* box-shadow: rgba(50, 50, 105, 0.45) 0px 2px 5px 0px, rgba(0, 0, 0, 0.35) 0px 1px 1px 0px; */\n",
       "    /* box-shadow: rgba(0, 0, 0, 0.15) 1.95px 1.95px 2.6px; */\n",
       "    box-shadow: rgba(50, 50, 93, 0.65) 0px 2px 5px -1px, rgba(0, 0, 0, 0.6) 0px 1px 3px -1px;\n",
       "    /* border-radius: 5px; */\n",
       "}\n",
       "\n",
       ".stats-grid > div > div.success div, .stats-grid > div > div.green div {\n",
       "    background: linear-gradient(120deg, rgb(66, 154, 67), rgb(111, 183, 87));\n",
       "}\n",
       ".stats-grid > div > div.red div, .stats-grid > div > div.error div {\n",
       "    background: linear-gradient(120deg, rgb(223, 20, 16), rgb(240, 49, 96));\n",
       "}\n",
       ".stats-grid > div > div.orange div, .stats-grid > div > div.warning div {\n",
       "    background: linear-gradient(120deg, rgb(226, 144, 0), rgb(255, 108, 22));\n",
       "}\n",
       ".stats-grid > div > div.blue div {\n",
       "    background: linear-gradient(120deg, rgb(18, 74, 234), rgb(63, 156, 240));\n",
       "}\n",
       ".stats-grid > div > div.purple div {\n",
       "    background: linear-gradient(120deg, rgb(172, 59, 200), rgb(159, 99, 211));\n",
       "}\n",
       ".stats-grid > div > div.yellow div {\n",
       "    background: linear-gradient(120deg, rgb(211, 210, 5), rgb(249, 187, 17));\n",
       "}\n",
       "\n",
       ".stats-grid > div > div div:hover {\n",
       "    filter: brightness(1.3);\n",
       "}\n",
       "\n",
       ".stats-grid h1, .stats-grid h2 {\n",
       "    margin:0;\n",
       "    font-family: Roboto, \"Helvetica Neue\", Arial, sans-serif;\n",
       "    white-space: nowrap;\n",
       "    overflow: hidden;\n",
       "    text-overflow: ellipsis;\n",
       "}\n",
       ".stats-grid h2 {\n",
       "    font-weight: normal;\n",
       "    font-variant: small-caps;\n",
       "    font-size: 1em;\n",
       "}\n",
       ".stats-grid h1 {\n",
       "    text-align: center;\n",
       "    font-size: 3em;\n",
       "    padding: 0.166em 0;\n",
       "}\n",
       "\n",
       "/* figcaption */\n",
       ".stats-grid figcaption {\n",
       "    font-size: 1em;\n",
       "    padding-bottom: 0.25em;\n",
       "}\n",
       "\n",
       ".stats-grid.light figcaption{\n",
       "    color: #000;\n",
       "}\n",
       ".stats-grid.dark figcaption {\n",
       "    color: #fff;\n",
       "}</style><figure class=\"stats-grid light\" style=\"font-size:20px !important\"><figcaption style=\"text-align: center\">Classifier Training Summary</figcaption><div><div class=\"success\"><div><h2 title=\"accuracy\">accuracy</h2><h1 title=\"0.71 ↗\">0.71 ↗</h1></div></div><div class=\"warning\"><div><h2 title=\"precision\">precision</h2><h1 title=\"0.92 ↘\">0.92 ↘</h1></div></div><div class=\"success\"><div><h2 title=\"f1-score\">f1-score</h2><h1 title=\"0.80 ↗\">0.80 ↗</h1></div></div></div><div><div><div><h2 title=\"train-corpus-size\">train-corpus-size</h2><h1 title=\"1,234,567\">1,234,567</h1></div></div><div><div><h2 title=\"test-corpus-size\">test-corpus-size</h2><h1 title=\"34,567\">34,567</h1></div></div><div><div><h2 title=\"no-classes\">no-classes</h2><h1 title=\"42\">42</h1></div></div><div><div><h2 title=\"training-time [s]\">training-time [s]</h2><h1 title=\"123.45\">123.45</h1></div></div></div><div><div style=\"flex-grow:3\"><div><h2 title=\"model-location\">model-location</h2><h1 title=\"s3://mybucket/model.pth\">s3://mybucket/model.pth</h1></div></div><div><div><h2 title=\"model-size [MiB]\">model-size [MiB]</h2><h1 title=\"234.54\">234.54</h1></div></div></div></figure>"
      ],
      "text/plain": [
       "<statsgrid.statsgrid.StatsGrid at 0x210e5a6bf10>"
      ]
     },
     "execution_count": 3,
     "metadata": {},
     "output_type": "execute_result"
    }
   ],
   "source": [
    "sg(style=\"light\", caption_position=\"top center\", font_size=20)"
   ]
  },
  {
   "cell_type": "markdown",
   "metadata": {},
   "source": [
    "## Interactive example"
   ]
  },
  {
   "cell_type": "code",
   "execution_count": 4,
   "metadata": {},
   "outputs": [
    {
     "data": {
      "application/vnd.jupyter.widget-view+json": {
       "model_id": "1899dc01c6b246e68bd25b9644fbd2c1",
       "version_major": 2,
       "version_minor": 0
      },
      "text/plain": [
       "interactive(children=(FloatSlider(value=20.0, description='x', max=60.0, min=-20.0), Output()), _dom_classes=(…"
      ]
     },
     "metadata": {},
     "output_type": "display_data"
    }
   ],
   "source": [
    "from ipywidgets import interact\n",
    "import math, random\n",
    "\n",
    "COLORS = \"blue,red,orange,yellow,purple,green\".split(\",\")\n",
    "\n",
    "\n",
    "def fg(x):\n",
    "    return StatsGrid(\n",
    "        [\n",
    "            [\n",
    "                (\"x / 2\", x / 2, dict(style=(\"success\" if x / 2 > 0 else \"\"))),\n",
    "                (\"x²\", x**2),\n",
    "                (\"x³ - 2x² + 7x + 1\", x**3 - 2 * x**2 + 7 * x + 1),\n",
    "                (\"sin(x)\", math.sin(x), dict(style=random.choice(COLORS))),\n",
    "            ]\n",
    "        ],\n",
    "        caption=f\"Some Random Functions (for x={x:.2f})\",\n",
    "        font_size=int(x),\n",
    "    )\n",
    "\n",
    "\n",
    "interact(fg, x=20.0);\n"
   ]
  }
 ],
 "metadata": {
  "interpreter": {
   "hash": "71736488fc6e11678d73264d6693552e61932950106d33377d4eb0483295e834"
  },
  "kernelspec": {
   "display_name": "Python 3.10.0 64-bit",
   "language": "python",
   "name": "python3"
  },
  "language_info": {
   "codemirror_mode": {
    "name": "ipython",
    "version": 3
   },
   "file_extension": ".py",
   "mimetype": "text/x-python",
   "name": "python",
   "nbconvert_exporter": "python",
   "pygments_lexer": "ipython3",
   "version": "3.10.0"
  },
  "orig_nbformat": 4
 },
 "nbformat": 4,
 "nbformat_minor": 2
}
