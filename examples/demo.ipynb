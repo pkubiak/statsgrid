{
 "cells": [
  {
   "cell_type": "code",
   "execution_count": 1,
   "metadata": {},
   "outputs": [],
   "source": [
    "%load_ext autoreload\n",
    "import sys, os\n",
    "sys.path.append(os.path.abspath('..'))\n",
    "from statsgrid import StatsGrid"
   ]
  },
  {
   "cell_type": "code",
   "execution_count": 2,
   "metadata": {},
   "outputs": [
    {
     "data": {
      "text/html": [
       "<style>.stats-grid {\n",
       "    display: flex;\n",
       "    flex-direction: column;\n",
       "    background: #141619;\n",
       "    font-size: 20px;\n",
       "\n",
       "    padding: 6px;\n",
       "    margin: 0;\n",
       "}\n",
       "\n",
       ".stats-grid > div {\n",
       "    flex-grow: 1;\n",
       "    display: flex;\n",
       "    max-width: 100%;\n",
       "}\n",
       "\n",
       ".stats-grid > div > div {\n",
       "    flex-grow: 1;\n",
       "    flex-shrink: 0;\n",
       "    flex-basis: 0px;\n",
       "    overflow: hidden;\n",
       "    /*border-radius: 5px;*/\n",
       "}\n",
       "\n",
       ".stats-grid > div > div div {\n",
       "    margin: 6px;\n",
       "    background: linear-gradient(120deg, rgb(90, 90, 90), rgb(115, 115, 115));\n",
       "    padding: 1em;\n",
       "    color: white;\n",
       "}\n",
       "\n",
       ".stats-grid > div > div.success div, .stats-grid > div > div.green div {\n",
       "    background: linear-gradient(120deg, rgb(66, 154, 67), rgb(111, 183, 87));\n",
       "}\n",
       ".stats-grid > div > div.red div {\n",
       "    background: linear-gradient(120deg, rgb(223, 20, 16), rgb(240, 49, 96));\n",
       "}\n",
       ".stats-grid > div > div.orange div {\n",
       "    background: linear-gradient(120deg, rgb(226, 144, 0), rgb(255, 108, 22));\n",
       "}\n",
       ".stats-grid > div > div.blue div {\n",
       "    background: linear-gradient(120deg, rgb(18, 74, 234), rgb(63, 156, 240));\n",
       "}\n",
       ".stats-grid > div > div.purple div {\n",
       "    background: linear-gradient(120deg, rgb(172, 59, 200), rgb(159, 99, 211));\n",
       "}\n",
       ".stats-grid > div > div.yellow div {\n",
       "    background: linear-gradient(120deg, rgb(211, 210, 5), rgb(249, 187, 17));\n",
       "}\n",
       "\n",
       ".stats-grid > div > div div:hover {\n",
       "    filter: brightness(1.3);\n",
       "}\n",
       "\n",
       ".stats-grid h1, .stats-grid h2 {\n",
       "    margin:0;\n",
       "    font-family: Roboto, \"Helvetica Neue\", Arial, sans-serif;\n",
       "    white-space: nowrap;\n",
       "    overflow: hidden;\n",
       "    /* text-overflow: ellipsis; */\n",
       "}\n",
       ".stats-grid h2 {\n",
       "    /*text-transform: uppercase;*/\n",
       "    font-weight: normal;\n",
       "    font-variant: small-caps;\n",
       "    font-size: 1em;\n",
       "}\n",
       ".stats-grid h1 {\n",
       "    text-align: center;\n",
       "    font-size: 3em;\n",
       "    padding: 12px 0;\n",
       "}\n",
       "\n",
       ".stats-grid figcaption {\n",
       "    color: white;\n",
       "    font-size: 16pt;\n",
       "    padding-bottom: 6px;\n",
       "}</style><figure class=\"stats-grid\" style=\"font-size:30px !important\"><figcaption>Hello World Metrics</figcaption><div><div><div><h2 title=\"Created Analytics Reports\">Created Analytics Reports</h2><h1 title=\"51\">51</h1></div></div><div><div><h2 title=\"Total Views\">Total Views</h2><h1 title=\"9,771,123\">9,771,123</h1></div></div><div><div><h2 title=\"Unique visitors\">Unique visitors</h2><h1 title=\"3.14\">3.14</h1></div></div><div class=\"success\"><div><h2 title=\"es-ES\">es-ES</h2><h1 title=\"30 days\">30 days</h1></div></div></div><div><div><div><h2 title=\"de-DE\">de-DE</h2><h1 title=\"19 days\">19 days</h1></div></div><div><div><h2 title=\"en-GB\">en-GB</h2><h1 title=\"5 days\">5 days</h1></div></div><div style=\"flex-grow:2\"><div><h2 title=\"en-US\">en-US</h2><h1 title=\"12 days\">12 days</h1></div></div></div></figure>"
      ],
      "text/plain": [
       "<statsgrid.statsgrid.StatsGrid at 0x19a1be26e90>"
      ]
     },
     "execution_count": 2,
     "metadata": {},
     "output_type": "execute_result"
    }
   ],
   "source": [
    "sg = StatsGrid([\n",
    "    [\n",
    "        (\"Created Analytics Reports\", 51),\n",
    "        (\"Total Views\", 9771123),\n",
    "        (\"Unique visitors\", 3.1415926),\n",
    "        (\"es-ES\", \"30 days\", dict(style=\"success\")),\n",
    "    ],\n",
    "    [\n",
    "        (\"de-DE\", \"19 days\"),\n",
    "        (\"en-GB\", \"5 days\"),\n",
    "        (\"en-US\", \"12 days\", dict(size=2)),\n",
    "    ]\n",
    "], caption=\"Hello World Metrics\", font_size=30)\n",
    "sg"
   ]
  },
  {
   "cell_type": "markdown",
   "metadata": {},
   "source": [
    "## Interactive example"
   ]
  },
  {
   "cell_type": "code",
   "execution_count": 3,
   "metadata": {},
   "outputs": [
    {
     "data": {
      "application/vnd.jupyter.widget-view+json": {
       "model_id": "7ec54eb78dde4822a4e2dddfb4045606",
       "version_major": 2,
       "version_minor": 0
      },
      "text/plain": [
       "interactive(children=(FloatSlider(value=10.0, description='x', max=30.0, min=-10.0), Output()), _dom_classes=(…"
      ]
     },
     "metadata": {},
     "output_type": "display_data"
    }
   ],
   "source": [
    "from ipywidgets import interact, interactive, fixed, interact_manual\n",
    "import ipywidgets as widgets\n",
    "import math, random\n",
    "\n",
    "COLORS = 'blue,red,orange,yellow,purple,green'.split(',')\n",
    "\n",
    "def f(x):\n",
    "    return StatsGrid([[\n",
    "        (\"x / 2\", x / 2, dict(style=(\"success\" if x/2 > 0 else \"\"))),\n",
    "        (\"x²\", x**2),\n",
    "        (\"x³ - 2x² + 7x + 1\", x**3 - 2*x**2 + 7*x + 1),\n",
    "        (\"sin(x)\", math.sin(x), dict(style=random.choice(COLORS)))\n",
    "    ]], caption=f\"Some Random Functions (for x={x:.2f})\", font_size=int(x))\n",
    "\n",
    "interact(f, x=10.0);"
   ]
  }
 ],
 "metadata": {
  "interpreter": {
   "hash": "71736488fc6e11678d73264d6693552e61932950106d33377d4eb0483295e834"
  },
  "kernelspec": {
   "display_name": "Python 3.10.0 64-bit",
   "language": "python",
   "name": "python3"
  },
  "language_info": {
   "codemirror_mode": {
    "name": "ipython",
    "version": 3
   },
   "file_extension": ".py",
   "mimetype": "text/x-python",
   "name": "python",
   "nbconvert_exporter": "python",
   "pygments_lexer": "ipython3",
   "version": "3.10.0"
  },
  "orig_nbformat": 4
 },
 "nbformat": 4,
 "nbformat_minor": 2
}
