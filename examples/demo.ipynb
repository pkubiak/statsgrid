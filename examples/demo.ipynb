{
 "cells": [
  {
   "cell_type": "code",
   "execution_count": 1,
   "metadata": {},
   "outputs": [],
   "source": [
    "%load_ext autoreload\n",
    "import sys, os\n",
    "sys.path.append(os.path.abspath('..'))\n",
    "from statsgrid import StatsGrid"
   ]
  },
  {
   "cell_type": "code",
   "execution_count": 2,
   "metadata": {},
   "outputs": [
    {
     "data": {
      "text/html": [
       "<style>.stats-grid .row {\n",
       "flex-grow: 1;\n",
       "    display: flex;\n",
       "    \n",
       "    /*background: grey;*/\n",
       "    max-width: 100%;\n",
       "    \n",
       "}\n",
       "\n",
       ".stats-grid .row .stat {\n",
       "    flex-grow: 1;\n",
       "    flex-shrink: 0;\n",
       "    flex-basis: 0px;\n",
       "    overflow: hidden;\n",
       "    /*border-radius: 5px;*/\n",
       "}\n",
       ".stats-grid .row .stat div {\n",
       "    margin: 6px;\n",
       "    background: linear-gradient(120deg, rgb(90, 90, 90), rgb(115, 115, 115));\n",
       "    padding: 20px;\n",
       "    color: white;\n",
       "}\n",
       ".stats-grid .stat.success div {\n",
       "    background: linear-gradient(120deg, rgb(66, 154, 67), rgb(111, 183, 87));\n",
       "}\n",
       "\n",
       ".stats-grid .row .stat div:hover {\n",
       "    filter: brightness(1.3);\n",
       "}\n",
       "\n",
       ".stats-grid h1, .stats-grid h2 {\n",
       "    margin:0;\n",
       "    font-family: Roboto, \"Helvetica Neue\", Arial, sans-serif;\n",
       "    white-space: nowrap;\n",
       "    overflow: hidden;\n",
       "    /*text-overflow: ellipsis;*/\n",
       "}\n",
       ".stats-grid h2 {\n",
       "    /*text-transform: uppercase;*/\n",
       "    font-weight: normal;\n",
       "    font-variant: small-caps;\n",
       "    font-size: 20px;\n",
       "}\n",
       ".stats-grid h1 {\n",
       "    text-align: center;\n",
       "    font-size: 60px;\n",
       "    padding: 12px 0;\n",
       "}\n",
       ".stats-grid {\n",
       "    display: flex;\n",
       "    flex-direction: column;\n",
       "    background: #141619;\n",
       "    padding: 6px;\n",
       "    margin: 0;\n",
       "}\n",
       "\n",
       ".stats-grid figcaption {\n",
       "    color: white;\n",
       "    /* font-weight: bold; */\n",
       "    font-size: 16pt;\n",
       "    padding-bottom: 6px;\n",
       "}</style><figure class=\"stats-grid\"><figcaption>Hello World Metrics</figcaption><div class=\"row\"><div class=\"stat\"><div><h2>Created Analytics Reports</h2><h1>51</h1></div></div><div class=\"stat\"><div><h2>Total Views</h2><h1>977</h1></div></div><div class=\"stat\"><div><h2>Unique visitors</h2><h1>100</h1></div></div><div class=\"stat success\"><div><h2>es-ES</h2><h1>30 days</h1></div></div></div><div class=\"row\"><div class=\"stat\"><div><h2>de-DE</h2><h1>19 days</h1></div></div><div class=\"stat\"><div><h2>en-GB</h2><h1>5 days</h1></div></div><div class=\"stat\" style=\"flex-grow:2\"><div><h2>en-US</h2><h1>12 days</h1></div></div></div></figure>"
      ],
      "text/plain": [
       "<statsgrid.statsgrid.StatsGrid at 0x22e2f81a920>"
      ]
     },
     "execution_count": 2,
     "metadata": {},
     "output_type": "execute_result"
    }
   ],
   "source": [
    "StatsGrid([\n",
    "    [\n",
    "        (\"Created Analytics Reports\", 51),\n",
    "        (\"Total Views\", 977),\n",
    "        (\"Unique visitors\", 100),\n",
    "        (\"es-ES\", \"30 days\", dict(style=\"success\")),\n",
    "    ],\n",
    "    [\n",
    "        (\"de-DE\", \"19 days\"),\n",
    "        (\"en-GB\", \"5 days\"),\n",
    "        (\"en-US\", \"12 days\", dict(size=2)),\n",
    "    ]\n",
    "], caption=\"Hello World Metrics\")"
   ]
  }
 ],
 "metadata": {
  "interpreter": {
   "hash": "71736488fc6e11678d73264d6693552e61932950106d33377d4eb0483295e834"
  },
  "kernelspec": {
   "display_name": "Python 3.10.0 64-bit",
   "language": "python",
   "name": "python3"
  },
  "language_info": {
   "codemirror_mode": {
    "name": "ipython",
    "version": 3
   },
   "file_extension": ".py",
   "mimetype": "text/x-python",
   "name": "python",
   "nbconvert_exporter": "python",
   "pygments_lexer": "ipython3",
   "version": "3.10.0"
  },
  "orig_nbformat": 4
 },
 "nbformat": 4,
 "nbformat_minor": 2
}
