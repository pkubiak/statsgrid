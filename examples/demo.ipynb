{
 "cells": [
  {
   "cell_type": "code",
   "execution_count": 1,
   "metadata": {},
   "outputs": [],
   "source": [
    "%load_ext autoreload\n",
    "import sys, os\n",
    "sys.path.append(os.path.abspath('..'))\n",
    "from statsgrid import StatsGrid"
   ]
  },
  {
   "cell_type": "code",
   "execution_count": 2,
   "metadata": {},
   "outputs": [
    {
     "data": {
      "text/html": [
       "<style>.stats-grid {\n",
       "    display: flex;\n",
       "    flex-direction: column;\n",
       "    background:transparent;\n",
       "    font-size: 16px;\n",
       "\n",
       "    padding: 0.25em;\n",
       "    margin: 0;\n",
       "}\n",
       ".stats-grid.light {\n",
       "    background: #fff;\n",
       "}\n",
       "\n",
       ".stats-grid.dark {\n",
       "    background: #141619;\n",
       "}\n",
       "\n",
       ".stats-grid > div {\n",
       "    flex-grow: 1;\n",
       "    display: flex;\n",
       "    max-width: 100%;\n",
       "}\n",
       "\n",
       ".stats-grid > div > div {\n",
       "    flex-grow: 1;\n",
       "    flex-shrink: 0;\n",
       "    flex-basis: 0px;\n",
       "    overflow: hidden;\n",
       "}\n",
       "\n",
       ".stats-grid > div > div div {\n",
       "    margin: 5px;\n",
       "    background: linear-gradient(120deg, rgb(90, 90, 90), rgb(115, 115, 115));\n",
       "    padding: 1em;\n",
       "    color: white;\n",
       "    /* box-shadow: rgba(50, 50, 105, 0.45) 0px 2px 5px 0px, rgba(0, 0, 0, 0.35) 0px 1px 1px 0px; */\n",
       "    /* box-shadow: rgba(0, 0, 0, 0.15) 1.95px 1.95px 2.6px; */\n",
       "    box-shadow: rgba(50, 50, 93, 0.65) 0px 2px 5px -1px, rgba(0, 0, 0, 0.6) 0px 1px 3px -1px;\n",
       "    /* border-radius: 5px; */\n",
       "}\n",
       "\n",
       ".stats-grid > div > div div:hover {\n",
       "    filter: brightness(1.3);\n",
       "}\n",
       "\n",
       ".stats-grid h1, .stats-grid h2 {\n",
       "    margin:0;\n",
       "    font-family: Roboto, \"Helvetica Neue\", Arial, sans-serif;\n",
       "    white-space: nowrap;\n",
       "    overflow: hidden;\n",
       "    text-overflow: ellipsis;\n",
       "}\n",
       ".stats-grid h2 {\n",
       "    font-weight: normal;\n",
       "    font-variant: small-caps;\n",
       "    font-size: 1em;\n",
       "}\n",
       ".stats-grid h1 {\n",
       "    text-align: center;\n",
       "    font-size: 3em;\n",
       "    padding: 0.166em 0;\n",
       "}\n",
       "\n",
       "/* figcaption */\n",
       ".stats-grid figcaption {\n",
       "    font-size: 1em;\n",
       "    padding-bottom: 0.25em;\n",
       "}\n",
       "\n",
       ".stats-grid.light figcaption{\n",
       "    color: #000;\n",
       "}\n",
       ".stats-grid.dark figcaption {\n",
       "    color: #fff;\n",
       "}</style><figure class=\"stats-grid dark\"><figcaption style=\"text-align: left\">Classifier Training Summary</figcaption><div><div><div style=\"background:linear-gradient(120deg, #429a43, #6fb757);color:#fff\"><h2 title=\"accuracy\">accuracy</h2><h1 title=\"0.71 ↗\">0.71 ↗</h1></div></div><div><div style=\"background:linear-gradient(120deg, #e29000, #ff6c17);color:#fff\"><h2 title=\"precision\">precision</h2><h1 title=\"0.92 ↘\">0.92 ↘</h1></div></div><div><div style=\"background:linear-gradient(120deg, #429a43, #6fb757);color:#fff\"><h2 title=\"f1-score\">f1-score</h2><h1 title=\"0.80 ↗\">0.80 ↗</h1></div></div></div><div><div><div><h2 title=\"train-corpus-size\">train-corpus-size</h2><h1 title=\"1,234,567\">1,234,567</h1></div></div><div><div><h2 title=\"test-corpus-size\">test-corpus-size</h2><h1 title=\"34,567\">34,567</h1></div></div><div><div><h2 title=\"no-classes\">no-classes</h2><h1 title=\"42\">42</h1></div></div><div><div><h2 title=\"training-time [s]\">training-time [s]</h2><h1 title=\"123.45\">123.45</h1></div></div></div><div><div style=\"flex-grow:3\"><div><h2 title=\"model-location\">model-location</h2><h1 title=\"s3://mybucket/model.pth\">s3://mybucket/model.pth</h1></div></div><div><div><h2 title=\"model-size [MiB]\">model-size [MiB]</h2><h1 title=\"234.54\">234.54</h1></div></div></div></figure>"
      ],
      "text/plain": [
       "<statsgrid.statsgrid.StatsGrid at 0x20c6a977d60>"
      ]
     },
     "execution_count": 2,
     "metadata": {},
     "output_type": "execute_result"
    }
   ],
   "source": [
    "sg = StatsGrid([\n",
    "    [\n",
    "        (\"accuracy\", \"0.71 ↗\", dict(color=\"success\")),\n",
    "        (\"precision\", \"0.92 ↘\", dict(color=\"warning\")),\n",
    "        (\"f1-score\", f\"{2 * 0.71 * 0.92 / (0.71 + 0.92):.2f} ↗\", dict(color=\"success\"))\n",
    "    ], [\n",
    "        (\"train-corpus-size\", 1234567),\n",
    "        (\"test-corpus-size\", 34567),\n",
    "        (\"no-classes\", 42),\n",
    "        (\"training-time [s]\", 123.45),\n",
    "    ], [\n",
    "        (\"model-location\", \"s3://mybucket/model.pth\", dict(size=3)),\n",
    "        (\"model-size [MiB]\", 234.54), \n",
    "    ]\n",
    "], caption=\"Classifier Training Summary\", style=\"dark\")\n",
    "sg"
   ]
  },
  {
   "cell_type": "markdown",
   "metadata": {},
   "source": [
    "# Extending existing StatsGrid"
   ]
  },
  {
   "cell_type": "code",
   "execution_count": 3,
   "metadata": {},
   "outputs": [
    {
     "data": {
      "text/html": [
       "<style>.stats-grid {\n",
       "    display: flex;\n",
       "    flex-direction: column;\n",
       "    background:transparent;\n",
       "    font-size: 16px;\n",
       "\n",
       "    padding: 0.25em;\n",
       "    margin: 0;\n",
       "}\n",
       ".stats-grid.light {\n",
       "    background: #fff;\n",
       "}\n",
       "\n",
       ".stats-grid.dark {\n",
       "    background: #141619;\n",
       "}\n",
       "\n",
       ".stats-grid > div {\n",
       "    flex-grow: 1;\n",
       "    display: flex;\n",
       "    max-width: 100%;\n",
       "}\n",
       "\n",
       ".stats-grid > div > div {\n",
       "    flex-grow: 1;\n",
       "    flex-shrink: 0;\n",
       "    flex-basis: 0px;\n",
       "    overflow: hidden;\n",
       "}\n",
       "\n",
       ".stats-grid > div > div div {\n",
       "    margin: 5px;\n",
       "    background: linear-gradient(120deg, rgb(90, 90, 90), rgb(115, 115, 115));\n",
       "    padding: 1em;\n",
       "    color: white;\n",
       "    /* box-shadow: rgba(50, 50, 105, 0.45) 0px 2px 5px 0px, rgba(0, 0, 0, 0.35) 0px 1px 1px 0px; */\n",
       "    /* box-shadow: rgba(0, 0, 0, 0.15) 1.95px 1.95px 2.6px; */\n",
       "    box-shadow: rgba(50, 50, 93, 0.65) 0px 2px 5px -1px, rgba(0, 0, 0, 0.6) 0px 1px 3px -1px;\n",
       "    /* border-radius: 5px; */\n",
       "}\n",
       "\n",
       ".stats-grid > div > div div:hover {\n",
       "    filter: brightness(1.3);\n",
       "}\n",
       "\n",
       ".stats-grid h1, .stats-grid h2 {\n",
       "    margin:0;\n",
       "    font-family: Roboto, \"Helvetica Neue\", Arial, sans-serif;\n",
       "    white-space: nowrap;\n",
       "    overflow: hidden;\n",
       "    text-overflow: ellipsis;\n",
       "}\n",
       ".stats-grid h2 {\n",
       "    font-weight: normal;\n",
       "    font-variant: small-caps;\n",
       "    font-size: 1em;\n",
       "}\n",
       ".stats-grid h1 {\n",
       "    text-align: center;\n",
       "    font-size: 3em;\n",
       "    padding: 0.166em 0;\n",
       "}\n",
       "\n",
       "/* figcaption */\n",
       ".stats-grid figcaption {\n",
       "    font-size: 1em;\n",
       "    padding-bottom: 0.25em;\n",
       "}\n",
       "\n",
       ".stats-grid.light figcaption{\n",
       "    color: #000;\n",
       "}\n",
       ".stats-grid.dark figcaption {\n",
       "    color: #fff;\n",
       "}</style><figure class=\"stats-grid light\" style=\"font-size:20px !important\"><figcaption style=\"text-align: center\">Classifier Training Summary</figcaption><div><div><div style=\"background:linear-gradient(120deg, #429a43, #6fb757);color:#fff\"><h2 title=\"accuracy\">accuracy</h2><h1 title=\"0.71 ↗\">0.71 ↗</h1></div></div><div><div style=\"background:linear-gradient(120deg, #e29000, #ff6c17);color:#fff\"><h2 title=\"precision\">precision</h2><h1 title=\"0.92 ↘\">0.92 ↘</h1></div></div><div><div style=\"background:linear-gradient(120deg, #429a43, #6fb757);color:#fff\"><h2 title=\"f1-score\">f1-score</h2><h1 title=\"0.80 ↗\">0.80 ↗</h1></div></div></div><div><div><div><h2 title=\"train-corpus-size\">train-corpus-size</h2><h1 title=\"1,234,567\">1,234,567</h1></div></div><div><div><h2 title=\"test-corpus-size\">test-corpus-size</h2><h1 title=\"34,567\">34,567</h1></div></div><div><div><h2 title=\"no-classes\">no-classes</h2><h1 title=\"42\">42</h1></div></div><div><div><h2 title=\"training-time [s]\">training-time [s]</h2><h1 title=\"123.45\">123.45</h1></div></div></div><div><div style=\"flex-grow:3\"><div><h2 title=\"model-location\">model-location</h2><h1 title=\"s3://mybucket/model.pth\">s3://mybucket/model.pth</h1></div></div><div><div><h2 title=\"model-size [MiB]\">model-size [MiB]</h2><h1 title=\"234.54\">234.54</h1></div></div></div></figure>"
      ],
      "text/plain": [
       "<statsgrid.statsgrid.StatsGrid at 0x20c6a73a6e0>"
      ]
     },
     "execution_count": 3,
     "metadata": {},
     "output_type": "execute_result"
    }
   ],
   "source": [
    "sg(style=\"light\", caption_position=\"top center\", font_size=20)"
   ]
  },
  {
   "cell_type": "markdown",
   "metadata": {},
   "source": [
    "## Interactive example"
   ]
  },
  {
   "cell_type": "code",
   "execution_count": 4,
   "metadata": {},
   "outputs": [
    {
     "data": {
      "application/vnd.jupyter.widget-view+json": {
       "model_id": "c411a95f372045df81514ca2243246a1",
       "version_major": 2,
       "version_minor": 0
      },
      "text/plain": [
       "interactive(children=(FloatSlider(value=20.0, description='x', max=60.0, min=-20.0), Output()), _dom_classes=(…"
      ]
     },
     "metadata": {},
     "output_type": "display_data"
    }
   ],
   "source": [
    "from ipywidgets import interact\n",
    "import math, random\n",
    "\n",
    "COLORS = \"blue,red,orange,yellow,purple,green\".split(\",\")\n",
    "\n",
    "\n",
    "def fg(x):\n",
    "    return StatsGrid(\n",
    "        [\n",
    "            [\n",
    "                (\"x / 2\", x / 2, dict(color=(\"success\" if x / 2 > 0 else \"\"))),\n",
    "                (\"x²\", x**2),\n",
    "                (\"x³ - 2x² + 7x + 1\", x**3 - 2 * x**2 + 7 * x + 1),\n",
    "                (\"sin(x)\", math.sin(x), dict(color=random.choice(COLORS))),\n",
    "            ]\n",
    "        ],\n",
    "        caption=f\"Some Random Functions (for x={x:.2f})\",\n",
    "        font_size=int(x),\n",
    "    )\n",
    "\n",
    "\n",
    "interact(fg, x=20.0);\n"
   ]
  },
  {
   "cell_type": "markdown",
   "metadata": {},
   "source": [
    "## Colors setting (rainbow)"
   ]
  },
  {
   "cell_type": "code",
   "execution_count": 5,
   "metadata": {},
   "outputs": [
    {
     "data": {
      "text/html": [
       "<style>.stats-grid {\n",
       "    display: flex;\n",
       "    flex-direction: column;\n",
       "    background:transparent;\n",
       "    font-size: 16px;\n",
       "\n",
       "    padding: 0.25em;\n",
       "    margin: 0;\n",
       "}\n",
       ".stats-grid.light {\n",
       "    background: #fff;\n",
       "}\n",
       "\n",
       ".stats-grid.dark {\n",
       "    background: #141619;\n",
       "}\n",
       "\n",
       ".stats-grid > div {\n",
       "    flex-grow: 1;\n",
       "    display: flex;\n",
       "    max-width: 100%;\n",
       "}\n",
       "\n",
       ".stats-grid > div > div {\n",
       "    flex-grow: 1;\n",
       "    flex-shrink: 0;\n",
       "    flex-basis: 0px;\n",
       "    overflow: hidden;\n",
       "}\n",
       "\n",
       ".stats-grid > div > div div {\n",
       "    margin: 5px;\n",
       "    background: linear-gradient(120deg, rgb(90, 90, 90), rgb(115, 115, 115));\n",
       "    padding: 1em;\n",
       "    color: white;\n",
       "    /* box-shadow: rgba(50, 50, 105, 0.45) 0px 2px 5px 0px, rgba(0, 0, 0, 0.35) 0px 1px 1px 0px; */\n",
       "    /* box-shadow: rgba(0, 0, 0, 0.15) 1.95px 1.95px 2.6px; */\n",
       "    box-shadow: rgba(50, 50, 93, 0.65) 0px 2px 5px -1px, rgba(0, 0, 0, 0.6) 0px 1px 3px -1px;\n",
       "    /* border-radius: 5px; */\n",
       "}\n",
       "\n",
       ".stats-grid > div > div div:hover {\n",
       "    filter: brightness(1.3);\n",
       "}\n",
       "\n",
       ".stats-grid h1, .stats-grid h2 {\n",
       "    margin:0;\n",
       "    font-family: Roboto, \"Helvetica Neue\", Arial, sans-serif;\n",
       "    white-space: nowrap;\n",
       "    overflow: hidden;\n",
       "    text-overflow: ellipsis;\n",
       "}\n",
       ".stats-grid h2 {\n",
       "    font-weight: normal;\n",
       "    font-variant: small-caps;\n",
       "    font-size: 1em;\n",
       "}\n",
       ".stats-grid h1 {\n",
       "    text-align: center;\n",
       "    font-size: 3em;\n",
       "    padding: 0.166em 0;\n",
       "}\n",
       "\n",
       "/* figcaption */\n",
       ".stats-grid figcaption {\n",
       "    font-size: 1em;\n",
       "    padding-bottom: 0.25em;\n",
       "}\n",
       "\n",
       ".stats-grid.light figcaption{\n",
       "    color: #000;\n",
       "}\n",
       ".stats-grid.dark figcaption {\n",
       "    color: #fff;\n",
       "}</style><figure class=\"stats-grid\"><div><div><div style=\"background:linear-gradient(120deg, #a91e09, #da0c27);color:#fff\"><h2></h2><h1 title=\"(0, 0)\">(0, 0)</h1></div></div><div><div style=\"background:linear-gradient(120deg, #a93d09, #da170c);color:#fff\"><h2></h2><h1 title=\"(1, 0)\">(1, 0)</h1></div></div><div><div style=\"background:linear-gradient(120deg, #a95b09, #da3e0c);color:#fff\"><h2></h2><h1 title=\"(2, 0)\">(2, 0)</h1></div></div><div><div style=\"background:linear-gradient(120deg, #a97909, #da640c);color:#fff\"><h2></h2><h1 title=\"(3, 0)\">(3, 0)</h1></div></div><div><div style=\"background:linear-gradient(120deg, #a99709, #da8b0c);color:#fff\"><h2></h2><h1 title=\"(4, 0)\">(4, 0)</h1></div></div><div><div style=\"background:linear-gradient(120deg, #e8f540, #f3c91e);color:#000\"><h2></h2><h1 title=\"(5, 0)\">(5, 0)</h1></div></div><div><div style=\"background:linear-gradient(120deg, #c6f540, #f3f11e);color:#000\"><h2></h2><h1 title=\"(6, 0)\">(6, 0)</h1></div></div><div><div style=\"background:linear-gradient(120deg, #a5f540, #cdf31e);color:#000\"><h2></h2><h1 title=\"(7, 0)\">(7, 0)</h1></div></div></div><div><div><div style=\"background:linear-gradient(120deg, #44a909, #8fda0c);color:#fff\"><h2></h2><h1 title=\"(0, 1)\">(0, 1)</h1></div></div><div><div style=\"background:linear-gradient(120deg, #25a909, #67da0c);color:#fff\"><h2></h2><h1 title=\"(1, 1)\">(1, 1)</h1></div></div><div><div style=\"background:linear-gradient(120deg, #09a90b, #40da0c);color:#fff\"><h2></h2><h1 title=\"(2, 1)\">(2, 1)</h1></div></div><div><div style=\"background:linear-gradient(120deg, #09a928, #1bda0c);color:#fff\"><h2></h2><h1 title=\"(3, 1)\">(3, 1)</h1></div></div><div><div style=\"background:linear-gradient(120deg, #09a946, #0cda24);color:#fff\"><h2></h2><h1 title=\"(4, 1)\">(4, 1)</h1></div></div><div><div style=\"background:linear-gradient(120deg, #09a964, #0cda4a);color:#fff\"><h2></h2><h1 title=\"(5, 1)\">(5, 1)</h1></div></div><div><div style=\"background:linear-gradient(120deg, #09a983, #0cda71);color:#fff\"><h2></h2><h1 title=\"(6, 1)\">(6, 1)</h1></div></div><div><div style=\"background:linear-gradient(120deg, #09a9a1, #0cda98);color:#fff\"><h2></h2><h1 title=\"(7, 1)\">(7, 1)</h1></div></div></div><div><div><div style=\"background:linear-gradient(120deg, #0994a9, #0cdabe);color:#fff\"><h2></h2><h1 title=\"(0, 2)\">(0, 2)</h1></div></div><div><div style=\"background:linear-gradient(120deg, #0976a9, #0ccfda);color:#fff\"><h2></h2><h1 title=\"(1, 2)\">(1, 2)</h1></div></div><div><div style=\"background:linear-gradient(120deg, #0958a9, #0ca8da);color:#fff\"><h2></h2><h1 title=\"(2, 2)\">(2, 2)</h1></div></div><div><div style=\"background:linear-gradient(120deg, #093aa9, #0c81da);color:#fff\"><h2></h2><h1 title=\"(3, 2)\">(3, 2)</h1></div></div><div><div style=\"background:linear-gradient(120deg, #091ca9, #0c5ada);color:#fff\"><h2></h2><h1 title=\"(4, 2)\">(4, 2)</h1></div></div><div><div style=\"background:linear-gradient(120deg, #1509a9, #0c34da);color:#fff\"><h2></h2><h1 title=\"(5, 2)\">(5, 2)</h1></div></div><div><div style=\"background:linear-gradient(120deg, #3209a9, #0c0eda);color:#fff\"><h2></h2><h1 title=\"(6, 2)\">(6, 2)</h1></div></div><div><div style=\"background:linear-gradient(120deg, #5009a9, #300cda);color:#fff\"><h2></h2><h1 title=\"(7, 2)\">(7, 2)</h1></div></div></div><div><div><div style=\"background:linear-gradient(120deg, #6e09a9, #570cda);color:#fff\"><h2></h2><h1 title=\"(0, 3)\">(0, 3)</h1></div></div><div><div style=\"background:linear-gradient(120deg, #8d09a9, #7e0cda);color:#fff\"><h2></h2><h1 title=\"(1, 3)\">(1, 3)</h1></div></div><div><div style=\"background:linear-gradient(120deg, #a909a8, #a50cda);color:#fff\"><h2></h2><h1 title=\"(2, 3)\">(2, 3)</h1></div></div><div><div style=\"background:linear-gradient(120deg, #a9098a, #cb0cda);color:#fff\"><h2></h2><h1 title=\"(3, 3)\">(3, 3)</h1></div></div><div><div style=\"background:linear-gradient(120deg, #a9096c, #da0cc2);color:#fff\"><h2></h2><h1 title=\"(4, 3)\">(4, 3)</h1></div></div><div><div style=\"background:linear-gradient(120deg, #a9094e, #da0c9b);color:#fff\"><h2></h2><h1 title=\"(5, 3)\">(5, 3)</h1></div></div><div><div style=\"background:linear-gradient(120deg, #a90930, #da0c75);color:#fff\"><h2></h2><h1 title=\"(6, 3)\">(6, 3)</h1></div></div><div><div style=\"background:linear-gradient(120deg, #a90912, #da0c4e);color:#fff\"><h2></h2><h1 title=\"(7, 3)\">(7, 3)</h1></div></div></div></figure>"
      ],
      "text/plain": [
       "<statsgrid.statsgrid.StatsGrid at 0x20c6b28baf0>"
      ]
     },
     "execution_count": 5,
     "metadata": {},
     "output_type": "execute_result"
    }
   ],
   "source": [
    "from statsgrid.helpers import _rgb_to_hex\n",
    "from colorsys import hls_to_rgb\n",
    "\n",
    "StatsGrid([\n",
    "    [\n",
    "        (None, f\"{(x,y)}\", dict(color=_rgb_to_hex(*hls_to_rgb((x+8*y)/32,0.5,0.9))))\n",
    "        for x in range(8)\n",
    "    ]\n",
    "    for y in range(4)\n",
    "])"
   ]
  }
 ],
 "metadata": {
  "interpreter": {
   "hash": "71736488fc6e11678d73264d6693552e61932950106d33377d4eb0483295e834"
  },
  "kernelspec": {
   "display_name": "Python 3.10.0 64-bit",
   "language": "python",
   "name": "python3"
  },
  "language_info": {
   "codemirror_mode": {
    "name": "ipython",
    "version": 3
   },
   "file_extension": ".py",
   "mimetype": "text/x-python",
   "name": "python",
   "nbconvert_exporter": "python",
   "pygments_lexer": "ipython3",
   "version": "3.10.0"
  },
  "orig_nbformat": 4
 },
 "nbformat": 4,
 "nbformat_minor": 2
}
