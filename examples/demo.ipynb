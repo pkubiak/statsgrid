{
 "cells": [
  {
   "cell_type": "code",
   "execution_count": 1,
   "metadata": {},
   "outputs": [],
   "source": [
    "%load_ext autoreload\n",
    "import sys, os\n",
    "sys.path.append(os.path.abspath('..'))\n",
    "from statsgrid import StatsGrid"
   ]
  },
  {
   "cell_type": "code",
   "execution_count": 9,
   "metadata": {},
   "outputs": [
    {
     "data": {
      "text/html": [
       "<style>.stats-grid {\n",
       "    display: flex;\n",
       "    flex-direction: column;\n",
       "    background: #141619;\n",
       "    font-size: 20px;\n",
       "\n",
       "    padding: 6px;\n",
       "    margin: 0;\n",
       "}\n",
       "\n",
       ".stats-grid > div {\n",
       "    flex-grow: 1;\n",
       "    display: flex;\n",
       "    max-width: 100%;\n",
       "}\n",
       "\n",
       ".stats-grid > div > div {\n",
       "    flex-grow: 1;\n",
       "    flex-shrink: 0;\n",
       "    flex-basis: 0px;\n",
       "    /* overflow: hidden; */\n",
       "}\n",
       "\n",
       ".stats-grid > div > div div {\n",
       "    margin: 6px;\n",
       "    background: linear-gradient(120deg, rgb(90, 90, 90), rgb(115, 115, 115));\n",
       "    padding: 1em;\n",
       "    color: white;\n",
       "    /* border-radius: 5px; */\n",
       "}\n",
       "\n",
       ".stats-grid > div > div.success div, .stats-grid > div > div.green div {\n",
       "    background: linear-gradient(120deg, rgb(66, 154, 67), rgb(111, 183, 87));\n",
       "}\n",
       ".stats-grid > div > div.red div, .stats-grid > div > div.error div {\n",
       "    background: linear-gradient(120deg, rgb(223, 20, 16), rgb(240, 49, 96));\n",
       "}\n",
       ".stats-grid > div > div.orange div, .stats-grid > div > div.warning div {\n",
       "    background: linear-gradient(120deg, rgb(226, 144, 0), rgb(255, 108, 22));\n",
       "}\n",
       ".stats-grid > div > div.blue div {\n",
       "    background: linear-gradient(120deg, rgb(18, 74, 234), rgb(63, 156, 240));\n",
       "}\n",
       ".stats-grid > div > div.purple div {\n",
       "    background: linear-gradient(120deg, rgb(172, 59, 200), rgb(159, 99, 211));\n",
       "}\n",
       ".stats-grid > div > div.yellow div {\n",
       "    background: linear-gradient(120deg, rgb(211, 210, 5), rgb(249, 187, 17));\n",
       "}\n",
       "\n",
       ".stats-grid > div > div div:hover {\n",
       "    filter: brightness(1.3);\n",
       "}\n",
       "\n",
       ".stats-grid h1, .stats-grid h2 {\n",
       "    margin:0;\n",
       "    font-family: Roboto, \"Helvetica Neue\", Arial, sans-serif;\n",
       "    white-space: nowrap;\n",
       "    overflow: hidden;\n",
       "    /* text-overflow: ellipsis; */\n",
       "}\n",
       ".stats-grid h2 {\n",
       "    font-weight: normal;\n",
       "    font-variant: small-caps;\n",
       "    font-size: 1em;\n",
       "}\n",
       ".stats-grid h1 {\n",
       "    text-align: center;\n",
       "    font-size: 3em;\n",
       "    padding: 12px 0;\n",
       "}\n",
       "\n",
       ".stats-grid figcaption {\n",
       "    color: white;\n",
       "    font-size: 1em;\n",
       "    padding-bottom: 6px;\n",
       "}</style><figure class=\"stats-grid\"><figcaption>Classifier Training Summary</figcaption><div><div class=\"success\"><div><h2 title=\"accuracy\">accuracy</h2><h1 title=\"0.71 ↗\">0.71 ↗</h1></div></div><div class=\"warning\"><div><h2 title=\"precision\">precision</h2><h1 title=\"0.92 ↘\">0.92 ↘</h1></div></div><div class=\"success\"><div><h2 title=\"f1-score\">f1-score</h2><h1 title=\"0.80 ↗\">0.80 ↗</h1></div></div></div><div><div><div><h2 title=\"train-corpus-size\">train-corpus-size</h2><h1 title=\"1,234,567\">1,234,567</h1></div></div><div><div><h2 title=\"test-corpus-size\">test-corpus-size</h2><h1 title=\"34,567\">34,567</h1></div></div><div><div><h2 title=\"no-classes\">no-classes</h2><h1 title=\"42\">42</h1></div></div><div><div><h2 title=\"training-time [s]\">training-time [s]</h2><h1 title=\"123.45\">123.45</h1></div></div></div><div><div style=\"flex-grow:3\"><div><h2 title=\"model-location\">model-location</h2><h1 title=\"s3://mybucket/model.pth\">s3://mybucket/model.pth</h1></div></div><div><div><h2 title=\"model-size [MiB]\">model-size [MiB]</h2><h1 title=\"234.54\">234.54</h1></div></div></div></figure>"
      ],
      "text/plain": [
       "<statsgrid.statsgrid.StatsGrid at 0x1dde9ef7850>"
      ]
     },
     "execution_count": 9,
     "metadata": {},
     "output_type": "execute_result"
    }
   ],
   "source": [
    "StatsGrid([\n",
    "    [\n",
    "        (\"accuracy\", \"0.71 ↗\", dict(style=\"success\")),\n",
    "        (\"precision\", \"0.92 ↘\", dict(style=\"warning\")),\n",
    "        (\"f1-score\", f\"{2 * 0.71 * 0.92 / (0.71 + 0.92):.2f} ↗\", dict(style=\"success\"))\n",
    "    ], [\n",
    "        (\"train-corpus-size\", 1234567),\n",
    "        (\"test-corpus-size\", 34567),\n",
    "        (\"no-classes\", 42),\n",
    "        (\"training-time [s]\", 123.45),\n",
    "    ], [\n",
    "        (\"model-location\", \"s3://mybucket/model.pth\", dict(size=3)),\n",
    "        (\"model-size [MiB]\", 234.54), \n",
    "    ]\n",
    "], caption=\"Classifier Training Summary\")"
   ]
  },
  {
   "cell_type": "markdown",
   "metadata": {},
   "source": [
    "## Interactive example"
   ]
  },
  {
   "cell_type": "code",
   "execution_count": 3,
   "metadata": {},
   "outputs": [
    {
     "data": {
      "application/vnd.jupyter.widget-view+json": {
       "model_id": "acfbf2bd209a4a4bb1d4f0db99acd4b0",
       "version_major": 2,
       "version_minor": 0
      },
      "text/plain": [
       "interactive(children=(FloatSlider(value=20.0, description='x', max=60.0, min=-20.0), Output()), _dom_classes=(…"
      ]
     },
     "metadata": {},
     "output_type": "display_data"
    }
   ],
   "source": [
    "from ipywidgets import interact, interactive, fixed, interact_manual\n",
    "import ipywidgets as widgets\n",
    "import math, random\n",
    "\n",
    "COLORS = 'blue,red,orange,yellow,purple,green'.split(',')\n",
    "\n",
    "def f(x):\n",
    "    return StatsGrid([[\n",
    "        (\"x / 2\", x / 2, dict(style=(\"success\" if x/2 > 0 else \"\"))),\n",
    "        (\"x²\", x**2),\n",
    "        (\"x³ - 2x² + 7x + 1\", x**3 - 2*x**2 + 7*x + 1),\n",
    "        (\"sin(x)\", math.sin(x), dict(style=random.choice(COLORS)))\n",
    "    ]], caption=f\"Some Random Functions (for x={x:.2f})\", font_size=int(x))\n",
    "\n",
    "interact(f, x=20.0);"
   ]
  }
 ],
 "metadata": {
  "interpreter": {
   "hash": "71736488fc6e11678d73264d6693552e61932950106d33377d4eb0483295e834"
  },
  "kernelspec": {
   "display_name": "Python 3.10.0 64-bit",
   "language": "python",
   "name": "python3"
  },
  "language_info": {
   "codemirror_mode": {
    "name": "ipython",
    "version": 3
   },
   "file_extension": ".py",
   "mimetype": "text/x-python",
   "name": "python",
   "nbconvert_exporter": "python",
   "pygments_lexer": "ipython3",
   "version": "3.10.0"
  },
  "orig_nbformat": 4
 },
 "nbformat": 4,
 "nbformat_minor": 2
}
