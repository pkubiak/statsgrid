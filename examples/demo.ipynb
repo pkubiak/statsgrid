{
 "cells": [
  {
   "cell_type": "code",
   "execution_count": null,
   "metadata": {},
   "outputs": [],
   "source": [
    "%load_ext autoreload\n",
    "import sys, os\n",
    "sys.path.append(os.path.abspath('..'))\n",
    "from statsgrid import StatsGrid"
   ]
  },
  {
   "cell_type": "code",
   "execution_count": null,
   "metadata": {},
   "outputs": [],
   "source": [
    "sg = StatsGrid([\n",
    "    [\n",
    "        (\"accuracy\", \"0.71 ↗\", dict(style=\"success\")),\n",
    "        (\"precision\", \"0.92 ↘\", dict(style=\"warning\")),\n",
    "        (\"f1-score\", f\"{2 * 0.71 * 0.92 / (0.71 + 0.92):.2f} ↗\", dict(style=\"success\"))\n",
    "    ], [\n",
    "        (\"train-corpus-size\", 1234567),\n",
    "        (\"test-corpus-size\", 34567),\n",
    "        (\"no-classes\", 42),\n",
    "        (\"training-time [s]\", 123.45),\n",
    "    ], [\n",
    "        (\"model-location\", \"s3://mybucket/model.pth\", dict(size=3)),\n",
    "        (\"model-size [MiB]\", 234.54), \n",
    "    ]\n",
    "], caption=\"Classifier Training Summary\", style=\"dark\")\n",
    "sg"
   ]
  },
  {
   "cell_type": "markdown",
   "metadata": {},
   "source": [
    "# Extending existing StatsGrid"
   ]
  },
  {
   "cell_type": "code",
   "execution_count": null,
   "metadata": {},
   "outputs": [],
   "source": [
    "sg(style=\"light\", caption_position=\"top center\", font_size=20)"
   ]
  },
  {
   "cell_type": "markdown",
   "metadata": {},
   "source": [
    "## Interactive example"
   ]
  },
  {
   "cell_type": "code",
   "execution_count": null,
   "metadata": {},
   "outputs": [],
   "source": [
    "from ipywidgets import interact\n",
    "import math, random\n",
    "\n",
    "COLORS = \"blue,red,orange,yellow,purple,green\".split(\",\")\n",
    "\n",
    "\n",
    "def fg(x):\n",
    "    return StatsGrid(\n",
    "        [\n",
    "            [\n",
    "                (\"x / 2\", x / 2, dict(style=(\"success\" if x / 2 > 0 else \"\"))),\n",
    "                (\"x²\", x**2),\n",
    "                (\"x³ - 2x² + 7x + 1\", x**3 - 2 * x**2 + 7 * x + 1),\n",
    "                (\"sin(x)\", math.sin(x), dict(style=random.choice(COLORS))),\n",
    "            ]\n",
    "        ],\n",
    "        caption=f\"Some Random Functions (for x={x:.2f})\",\n",
    "        font_size=int(x),\n",
    "    )\n",
    "\n",
    "\n",
    "interact(fg, x=20.0);\n"
   ]
  }
 ],
 "metadata": {
  "interpreter": {
   "hash": "71736488fc6e11678d73264d6693552e61932950106d33377d4eb0483295e834"
  },
  "kernelspec": {
   "display_name": "Python 3.10.0 64-bit",
   "language": "python",
   "name": "python3"
  },
  "language_info": {
   "codemirror_mode": {
    "name": "ipython",
    "version": 3
   },
   "file_extension": ".py",
   "mimetype": "text/x-python",
   "name": "python",
   "nbconvert_exporter": "python",
   "pygments_lexer": "ipython3",
   "version": "3.10.0"
  },
  "orig_nbformat": 4
 },
 "nbformat": 4,
 "nbformat_minor": 2
}
